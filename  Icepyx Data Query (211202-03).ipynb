{
 "cells": [
  {
   "cell_type": "code",
   "execution_count": null,
   "id": "2a4b224b",
   "metadata": {},
   "outputs": [],
   "source": [
    "# Prep: Import sys and define module directory\n",
    "# Note: I pulled the folder \"icepyx\" from *conda_install_folder*\\pkgs\\icepyx-0.4.0-pyhd8ed1ab_0 \n",
    "#       and moved it to a new modules folder. Mine is \"AAA\" so I could see it at the top of the folder.\n",
    "\n",
    "import sys\n",
    "sys.path.append(\"C:\\MTP\\Software\\pkgs\\AAA\")"
   ]
  },
  {
   "cell_type": "code",
   "execution_count": null,
   "id": "3bdf8aa7",
   "metadata": {
    "scrolled": false
   },
   "outputs": [],
   "source": [
    "# Prep: Import packages\n",
    "# Note: Fails here because \"geopandas\" can't be located.\n",
    "\n",
    "import icepyx as ipx\n",
    "import os\n",
    "import shutil\n",
    "%matplotlib inline"
   ]
  },
  {
   "cell_type": "code",
   "execution_count": null,
   "id": "bd6e9a6f",
   "metadata": {},
   "outputs": [],
   "source": [
    "#1 Create data object by querying NSIDC data with spatiotemporal parameters\n",
    "\n",
    "#! Options: spatial extent - bounding box, polygon vertices, shapefile\n",
    "#! Optional: specify cycles, tracks\n",
    "#! Optional: time range - specify HHmmss start, end, version\n",
    "\n",
    "#X Test: Pamlico River, NC\n",
    "\n",
    "region_a = ipx.Query('ATL03',[35.20,-76.45,35.25,-76.25],['2018-10-18','2021-12-03']"
   ]
  },
  {
   "cell_type": "code",
   "execution_count": null,
   "id": "1e41995b",
   "metadata": {},
   "outputs": [],
   "source": [
    "#2 Earthdata login\n",
    "\n",
    "region_a.earthdata_login('mtparis','matthew.paris@unc.edu')"
   ]
  },
  {
   "cell_type": "code",
   "execution_count": null,
   "id": "2751b65e",
   "metadata": {},
   "outputs": [],
   "source": [
    "#3 Download granules\n",
    "\n",
    "region_a.download_granules(C:\\MTP\\IcepyxGranules)\n"
   ]
  }
 ],
 "metadata": {
  "kernelspec": {
   "display_name": "Python 3 (ipykernel)",
   "language": "python",
   "name": "python3"
  },
  "language_info": {
   "codemirror_mode": {
    "name": "ipython",
    "version": 3
   },
   "file_extension": ".py",
   "mimetype": "text/x-python",
   "name": "python",
   "nbconvert_exporter": "python",
   "pygments_lexer": "ipython3",
   "version": "3.9.7"
  }
 },
 "nbformat": 4,
 "nbformat_minor": 5
}
